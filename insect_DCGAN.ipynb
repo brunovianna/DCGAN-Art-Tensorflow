{
  "nbformat": 4,
  "nbformat_minor": 0,
  "metadata": {
    "colab": {
      "name": "insect DCGAN",
      "provenance": [],
      "collapsed_sections": [
        "Nl9YW79Fe5ko",
        "Qu0fuzQ4Sh9d",
        "VpSsIvK9xg95"
      ],
      "toc_visible": true,
      "include_colab_link": true
    },
    "kernelspec": {
      "name": "python3",
      "display_name": "Python 3"
    },
    "accelerator": "GPU"
  },
  "cells": [
    {
      "cell_type": "markdown",
      "metadata": {
        "id": "view-in-github",
        "colab_type": "text"
      },
      "source": [
        "<a href=\"https://colab.research.google.com/github/brunovianna/DCGAN-Art-Tensorflow/blob/master/insect_DCGAN.ipynb\" target=\"_parent\"><img src=\"https://colab.research.google.com/assets/colab-badge.svg\" alt=\"Open In Colab\"/></a>"
      ]
    },
    {
      "cell_type": "markdown",
      "metadata": {
        "id": "zmtd_DvDErgZ",
        "colab_type": "text"
      },
      "source": [
        "# Setup"
      ]
    },
    {
      "cell_type": "markdown",
      "metadata": {
        "id": "k3S5q576kbgz",
        "colab_type": "text"
      },
      "source": [
        "Check if GPU is enabled"
      ]
    },
    {
      "cell_type": "code",
      "metadata": {
        "id": "gdZxqX5qkMn2",
        "colab_type": "code",
        "outputId": "0ca39450-e879-42a4-8f05-e89389da6f1b",
        "colab": {
          "base_uri": "https://localhost:8080/",
          "height": 34
        }
      },
      "source": [
        "import tensorflow as tf\n",
        "tf.test.gpu_device_name()"
      ],
      "execution_count": 0,
      "outputs": [
        {
          "output_type": "execute_result",
          "data": {
            "text/plain": [
              "'/device:GPU:0'"
            ]
          },
          "metadata": {
            "tags": []
          },
          "execution_count": 1
        }
      ]
    },
    {
      "cell_type": "code",
      "metadata": {
        "id": "IPwX50eUEuYM",
        "colab_type": "code",
        "outputId": "0ba60fc8-9724-4d00-87c3-e4d677ecded8",
        "colab": {
          "base_uri": "https://localhost:8080/",
          "height": 34
        }
      },
      "source": [
        "print (tf.version.VERSION)"
      ],
      "execution_count": 0,
      "outputs": [
        {
          "output_type": "stream",
          "text": [
            "1.15.0\n"
          ],
          "name": "stdout"
        }
      ]
    },
    {
      "cell_type": "code",
      "metadata": {
        "id": "HS0tAIYFGOe-",
        "colab_type": "code",
        "outputId": "b5d1f733-66c4-4981-e0cc-be81e6404e80",
        "colab": {
          "base_uri": "https://localhost:8080/",
          "height": 124
        }
      },
      "source": [
        "from google.colab import drive\n",
        "drive.mount('/content/drive')"
      ],
      "execution_count": 1,
      "outputs": [
        {
          "output_type": "stream",
          "text": [
            "Go to this URL in a browser: https://accounts.google.com/o/oauth2/auth?client_id=947318989803-6bn6qk8qdgf4n4g3pfee6491hc0brc4i.apps.googleusercontent.com&redirect_uri=urn%3Aietf%3Awg%3Aoauth%3A2.0%3Aoob&scope=email%20https%3A%2F%2Fwww.googleapis.com%2Fauth%2Fdocs.test%20https%3A%2F%2Fwww.googleapis.com%2Fauth%2Fdrive%20https%3A%2F%2Fwww.googleapis.com%2Fauth%2Fdrive.photos.readonly%20https%3A%2F%2Fwww.googleapis.com%2Fauth%2Fpeopleapi.readonly&response_type=code\n",
            "\n",
            "Enter your authorization code:\n",
            "··········\n",
            "Mounted at /content/drive\n"
          ],
          "name": "stdout"
        }
      ]
    },
    {
      "cell_type": "markdown",
      "metadata": {
        "id": "CHP1ugLUbA7F",
        "colab_type": "text"
      },
      "source": [
        "check how much memory this gpu has"
      ]
    },
    {
      "cell_type": "code",
      "metadata": {
        "id": "PZ8_gNv14yD4",
        "colab_type": "code",
        "colab": {}
      },
      "source": [
        "!ln -sf /opt/bin/nvidia-smi /usr/bin/nvidia-smi\n",
        "!pip install gputil\n",
        "!pip install psutil\n",
        "!pip install humanize\n",
        "import psutil\n",
        "import humanize\n",
        "import os\n",
        "import GPUtil as GPU\n",
        "GPUs = GPU.getGPUs()\n",
        "# XXX: only one GPU on Colab and isn’t guaranteed\n",
        "gpu = GPUs[0]\n",
        "def printm():\n",
        " process = psutil.Process(os.getpid())\n",
        " print(\"Gen RAM Free: \" + humanize.naturalsize( psutil.virtual_memory().available ), \" I Proc size: \" + humanize.naturalsize( process.memory_info().rss))\n",
        " print(\"GPU RAM Free: {0:.0f}MB | Used: {1:.0f}MB | Util {2:3.0f}% | Total {3:.0f}MB\".format(gpu.memoryFree, gpu.memoryUsed, gpu.memoryUtil*100, gpu.memoryTotal))\n",
        "printm()"
      ],
      "execution_count": 0,
      "outputs": []
    },
    {
      "cell_type": "markdown",
      "metadata": {
        "id": "sBImtdUF45iW",
        "colab_type": "text"
      },
      "source": [
        "DON'T RUN - only to remove everything\n",
        "💀💀💀💀💀💀💀💀\n",
        "!kill -9 -1\n",
        "💀💀💀💀💀💀💀💀\n"
      ]
    },
    {
      "cell_type": "code",
      "metadata": {
        "id": "m0ZO2uK-ikpK",
        "colab_type": "code",
        "colab": {}
      },
      "source": [
        "#!kill -9 -1"
      ],
      "execution_count": 0,
      "outputs": []
    },
    {
      "cell_type": "markdown",
      "metadata": {
        "id": "FoI6Ic8HmNZ2",
        "colab_type": "text"
      },
      "source": [
        "# Install repo and import images"
      ]
    },
    {
      "cell_type": "markdown",
      "metadata": {
        "id": "38qyMuE3XtP9",
        "colab_type": "text"
      },
      "source": [
        "Lets use the repo made by carpedm20, a tensorflow implementation to Dgans"
      ]
    },
    {
      "cell_type": "code",
      "metadata": {
        "id": "qZ49GKGLmK_S",
        "colab_type": "code",
        "outputId": "2fade66f-4afb-4006-f332-bbb3f89f24e0",
        "colab": {
          "base_uri": "https://localhost:8080/",
          "height": 121
        }
      },
      "source": [
        "!git clone https://github.com/harrywang/DCGAN-Art-Tensorflow.git"
      ],
      "execution_count": 0,
      "outputs": [
        {
          "output_type": "stream",
          "text": [
            "Cloning into 'DCGAN-Art-Tensorflow'...\n",
            "remote: Enumerating objects: 25, done.\u001b[K\n",
            "remote: Counting objects:   4% (1/25)\u001b[K\rremote: Counting objects:   8% (2/25)\u001b[K\rremote: Counting objects:  12% (3/25)\u001b[K\rremote: Counting objects:  16% (4/25)\u001b[K\rremote: Counting objects:  20% (5/25)\u001b[K\rremote: Counting objects:  24% (6/25)\u001b[K\rremote: Counting objects:  28% (7/25)\u001b[K\rremote: Counting objects:  32% (8/25)\u001b[K\rremote: Counting objects:  36% (9/25)\u001b[K\rremote: Counting objects:  40% (10/25)\u001b[K\rremote: Counting objects:  44% (11/25)\u001b[K\rremote: Counting objects:  48% (12/25)\u001b[K\rremote: Counting objects:  52% (13/25)\u001b[K\rremote: Counting objects:  56% (14/25)\u001b[K\rremote: Counting objects:  60% (15/25)\u001b[K\rremote: Counting objects:  64% (16/25)\u001b[K\rremote: Counting objects:  68% (17/25)\u001b[K\rremote: Counting objects:  72% (18/25)\u001b[K\rremote: Counting objects:  76% (19/25)\u001b[K\rremote: Counting objects:  80% (20/25)\u001b[K\rremote: Counting objects:  84% (21/25)\u001b[K\rremote: Counting objects:  88% (22/25)\u001b[K\rremote: Counting objects:  92% (23/25)\u001b[K\rremote: Counting objects:  96% (24/25)\u001b[K\rremote: Counting objects: 100% (25/25)\u001b[K\rremote: Counting objects: 100% (25/25), done.\u001b[K\n",
            "remote: Compressing objects:   5% (1/18)\u001b[K\rremote: Compressing objects:  11% (2/18)\u001b[K\rremote: Compressing objects:  16% (3/18)\u001b[K\rremote: Compressing objects:  22% (4/18)\u001b[K\rremote: Compressing objects:  27% (5/18)\u001b[K\rremote: Compressing objects:  33% (6/18)\u001b[K\rremote: Compressing objects:  38% (7/18)\u001b[K\rremote: Compressing objects:  44% (8/18)\u001b[K\rremote: Compressing objects:  50% (9/18)\u001b[K\rremote: Compressing objects:  55% (10/18)\u001b[K\rremote: Compressing objects:  61% (11/18)\u001b[K\rremote: Compressing objects:  66% (12/18)\u001b[K\rremote: Compressing objects:  72% (13/18)\u001b[K\rremote: Compressing objects:  77% (14/18)\u001b[K\rremote: Compressing objects:  83% (15/18)\u001b[K\rremote: Compressing objects:  88% (16/18)\u001b[K\rremote: Compressing objects:  94% (17/18)\u001b[K\rremote: Compressing objects: 100% (18/18)\u001b[K\rremote: Compressing objects: 100% (18/18), done.\u001b[K\n",
            "Unpacking objects:   1% (1/67)   \rUnpacking objects:   2% (2/67)   \rUnpacking objects:   4% (3/67)   \rUnpacking objects:   5% (4/67)   \rUnpacking objects:   7% (5/67)   \rUnpacking objects:   8% (6/67)   \rUnpacking objects:  10% (7/67)   \rUnpacking objects:  11% (8/67)   \rUnpacking objects:  13% (9/67)   \rUnpacking objects:  14% (10/67)   \rUnpacking objects:  16% (11/67)   \rUnpacking objects:  17% (12/67)   \rUnpacking objects:  19% (13/67)   \rUnpacking objects:  20% (14/67)   \rUnpacking objects:  22% (15/67)   \rUnpacking objects:  23% (16/67)   \rUnpacking objects:  25% (17/67)   \rUnpacking objects:  26% (18/67)   \rUnpacking objects:  28% (19/67)   \rUnpacking objects:  29% (20/67)   \rUnpacking objects:  31% (21/67)   \rUnpacking objects:  32% (22/67)   \rUnpacking objects:  34% (23/67)   \rremote: Total 67 (delta 11), reused 17 (delta 6), pack-reused 42\u001b[K\n",
            "Unpacking objects:  35% (24/67)   \rUnpacking objects:  37% (25/67)   \rUnpacking objects:  38% (26/67)   \rUnpacking objects:  40% (27/67)   \rUnpacking objects:  41% (28/67)   \rUnpacking objects:  43% (29/67)   \rUnpacking objects:  44% (30/67)   \rUnpacking objects:  46% (31/67)   \rUnpacking objects:  47% (32/67)   \rUnpacking objects:  49% (33/67)   \rUnpacking objects:  50% (34/67)   \rUnpacking objects:  52% (35/67)   \rUnpacking objects:  53% (36/67)   \rUnpacking objects:  55% (37/67)   \rUnpacking objects:  56% (38/67)   \rUnpacking objects:  58% (39/67)   \rUnpacking objects:  59% (40/67)   \rUnpacking objects:  61% (41/67)   \rUnpacking objects:  62% (42/67)   \rUnpacking objects:  64% (43/67)   \rUnpacking objects:  65% (44/67)   \rUnpacking objects:  67% (45/67)   \rUnpacking objects:  68% (46/67)   \rUnpacking objects:  70% (47/67)   \rUnpacking objects:  71% (48/67)   \rUnpacking objects:  73% (49/67)   \rUnpacking objects:  74% (50/67)   \rUnpacking objects:  76% (51/67)   \rUnpacking objects:  77% (52/67)   \rUnpacking objects:  79% (53/67)   \rUnpacking objects:  80% (54/67)   \rUnpacking objects:  82% (55/67)   \rUnpacking objects:  83% (56/67)   \rUnpacking objects:  85% (57/67)   \rUnpacking objects:  86% (58/67)   \rUnpacking objects:  88% (59/67)   \rUnpacking objects:  89% (60/67)   \rUnpacking objects:  91% (61/67)   \rUnpacking objects:  92% (62/67)   \rUnpacking objects:  94% (63/67)   \rUnpacking objects:  95% (64/67)   \rUnpacking objects:  97% (65/67)   \rUnpacking objects:  98% (66/67)   \rUnpacking objects: 100% (67/67)   \rUnpacking objects: 100% (67/67), done.\n"
          ],
          "name": "stdout"
        }
      ]
    },
    {
      "cell_type": "code",
      "metadata": {
        "id": "R7_8N0XzmLF8",
        "colab_type": "code",
        "outputId": "dde351ff-48f0-4759-86f5-773823e2be1d",
        "colab": {
          "base_uri": "https://localhost:8080/",
          "height": 34
        }
      },
      "source": [
        "cd DCGAN-Art-Tensorflow"
      ],
      "execution_count": 0,
      "outputs": [
        {
          "output_type": "stream",
          "text": [
            "/content/DCGAN-Art-Tensorflow/DCGAN-Art-Tensorflow\n"
          ],
          "name": "stdout"
        }
      ]
    },
    {
      "cell_type": "code",
      "metadata": {
        "id": "Ob5XE7hZwuwc",
        "colab_type": "code",
        "outputId": "db171883-ff78-473d-b744-ba443a9139ca",
        "colab": {
          "base_uri": "https://localhost:8080/",
          "height": 52
        }
      },
      "source": [
        "# install the necessary libraries\n",
        "!pip install tqdm\n",
        "!pip install -U -q PyDrive\n",
        "!pip install googledrivedownloader"
      ],
      "execution_count": 0,
      "outputs": [
        {
          "output_type": "stream",
          "text": [
            "Requirement already satisfied: tqdm in /usr/local/lib/python3.6/dist-packages (4.28.1)\n",
            "Requirement already satisfied: googledrivedownloader in /usr/local/lib/python3.6/dist-packages (0.4)\n"
          ],
          "name": "stdout"
        }
      ]
    },
    {
      "cell_type": "markdown",
      "metadata": {
        "id": "nUFAWzEgUrIy",
        "colab_type": "text"
      },
      "source": [
        "\n",
        "Import from your Google Drive your dataset -* never upload with the files.upload(), it crashes if file is too big*"
      ]
    },
    {
      "cell_type": "code",
      "metadata": {
        "id": "z6IqbD3hfdjZ",
        "colab_type": "code",
        "colab": {}
      },
      "source": [
        "from pydrive.auth import GoogleAuth\n",
        "from pydrive.drive import GoogleDrive\n",
        "from google.colab import auth\n",
        "from oauth2client.client import GoogleCredentials\n",
        "\n",
        "# 1. Authenticate and create the PyDrive client.\n",
        "auth.authenticate_user()\n",
        "gauth = GoogleAuth()\n",
        "gauth.credentials = GoogleCredentials.get_application_default()\n",
        "drive = GoogleDrive(gauth)\n",
        "print(\"all right\")"
      ],
      "execution_count": 0,
      "outputs": []
    },
    {
      "cell_type": "markdown",
      "metadata": {
        "id": "8JnlmpLxoKsD",
        "colab_type": "text"
      },
      "source": [
        "# Import Dataset"
      ]
    },
    {
      "cell_type": "markdown",
      "metadata": {
        "id": "auwW5mgYboJO",
        "colab_type": "text"
      },
      "source": [
        "Some of the dataset i'm using, not sure they will work on other computers, just check or else upload a folder with the same img size and colors (RGB, not RGBA) to your drive. Make it a sharable link and copy the last part like this: drive.google.com/open?id=**1LWolfUnkoAwHnxmyOz3PnI1gWsQI-oUc**"
      ]
    },
    {
      "cell_type": "code",
      "metadata": {
        "id": "YLBwMdxMW3PR",
        "colab_type": "code",
        "colab": {}
      },
      "source": [
        "#link_name =\"1XKrAkCV4dzVNegPk2tYJ2SxBsDATufnG\" #flowers\n",
        "link_name =\"1O1JItVJm2nehIbQucTHP5Sct0-DZKOLO\" #insects\n",
        "#link_name =\"1A3fVxHiH9OlGVIN5ciAixr8YEn3lBAdR\" #naked\n",
        "#link_name = \"1xuuqhbE0OH0SEPC-pymbnzoffYubkH6t\" #portrait\n",
        "#link_name =\"1nv7WmFpz6TPwerNG4srjz-COfVgpe2Sy\" #calligraphy\n",
        "#link_name =\"1yHSggsUgtW4OV6k6lfaJmJMdEwnMaCmU\"\n",
        "#link_name=\"174dn8Ts6pyRwU1vNu0-0eNKZBEkbautj\"\n",
        "#link_name =\"1aPcBcuDt4fAKemSMwhLNiFgHC8-APRe4\" # nurse"
      ],
      "execution_count": 0,
      "outputs": []
    },
    {
      "cell_type": "markdown",
      "metadata": {
        "id": "ROE0HrCCnVvh",
        "colab_type": "text"
      },
      "source": [
        "create dirs to place dataset"
      ]
    },
    {
      "cell_type": "code",
      "metadata": {
        "id": "H_-jyFNY58zz",
        "colab_type": "code",
        "colab": {}
      },
      "source": [
        "mkdir data"
      ],
      "execution_count": 0,
      "outputs": []
    },
    {
      "cell_type": "code",
      "metadata": {
        "id": "yiHcgEyWfZNk",
        "colab_type": "code",
        "colab": {}
      },
      "source": [
        "mkdir data/insects"
      ],
      "execution_count": 0,
      "outputs": []
    },
    {
      "cell_type": "code",
      "metadata": {
        "id": "ZIGaVL0gkSXZ",
        "colab_type": "code",
        "colab": {}
      },
      "source": [
        "#rm -R data"
      ],
      "execution_count": 0,
      "outputs": []
    },
    {
      "cell_type": "markdown",
      "metadata": {
        "id": "bP036Q00cVIK",
        "colab_type": "text"
      },
      "source": [
        "import from drive and unzip the  file to *dest*"
      ]
    },
    {
      "cell_type": "code",
      "metadata": {
        "id": "d06JZAcwcRQa",
        "colab_type": "code",
        "colab": {}
      },
      "source": [
        "dest =\"./data/insects/\"+ link_name+\".zip\"\n"
      ],
      "execution_count": 0,
      "outputs": []
    },
    {
      "cell_type": "code",
      "metadata": {
        "id": "S9byes1iUp0T",
        "colab_type": "code",
        "outputId": "98936fca-d693-4a4d-e8d8-af5395b824ac",
        "colab": {
          "base_uri": "https://localhost:8080/",
          "height": 52
        }
      },
      "source": [
        "from google_drive_downloader import GoogleDriveDownloader as gdd\n",
        "\n",
        "gdd.download_file_from_google_drive(file_id=link_name,\n",
        "                                    dest_path=dest,\n",
        "                                    unzip=True)"
      ],
      "execution_count": 0,
      "outputs": [
        {
          "output_type": "stream",
          "text": [
            "Downloading 1O1JItVJm2nehIbQucTHP5Sct0-DZKOLO into ./data/insects/1O1JItVJm2nehIbQucTHP5Sct0-DZKOLO.zip... Done.\n",
            "Unzipping...Done.\n"
          ],
          "name": "stdout"
        }
      ]
    },
    {
      "cell_type": "markdown",
      "metadata": {
        "id": "Nl9YW79Fe5ko",
        "colab_type": "text"
      },
      "source": [
        "# Import checkpoints from drive"
      ]
    },
    {
      "cell_type": "markdown",
      "metadata": {
        "id": "-DelOgEBT3po",
        "colab_type": "text"
      },
      "source": [
        "only if you already have them"
      ]
    },
    {
      "cell_type": "code",
      "metadata": {
        "id": "dnW2nvY95tSs",
        "colab_type": "code",
        "colab": {}
      },
      "source": [
        "link1 = \"1SOB3BunfS95sHRzXFky3ZJ_nOwoX-KpG\""
      ],
      "execution_count": 0,
      "outputs": []
    },
    {
      "cell_type": "code",
      "metadata": {
        "id": "0sfkWm6R0rU-",
        "colab_type": "code",
        "colab": {}
      },
      "source": [
        "mkdir checkpoint"
      ],
      "execution_count": 0,
      "outputs": []
    },
    {
      "cell_type": "code",
      "metadata": {
        "id": "DDfxMtIofZTy",
        "colab_type": "code",
        "colab": {}
      },
      "source": [
        "loc =\"./checkpoint/\"+ link1+\".zip\""
      ],
      "execution_count": 0,
      "outputs": []
    },
    {
      "cell_type": "code",
      "metadata": {
        "id": "TZ1K4Xtd64Yv",
        "colab_type": "code",
        "colab": {}
      },
      "source": [
        "from google_drive_downloader import GoogleDriveDownloader as gdd\n",
        "\n",
        "gdd.download_file_from_google_drive(file_id=link1,\n",
        "                                    dest_path=loc,\n",
        "                                    unzip=True)"
      ],
      "execution_count": 0,
      "outputs": []
    },
    {
      "cell_type": "code",
      "metadata": {
        "id": "oW_WrHlg6X-a",
        "colab_type": "code",
        "colab": {}
      },
      "source": [
        "import os\n",
        "os.listdir(\"./checkpoint\")"
      ],
      "execution_count": 0,
      "outputs": []
    },
    {
      "cell_type": "code",
      "metadata": {
        "id": "RgTJnDwRzRB9",
        "colab_type": "code",
        "colab": {}
      },
      "source": [
        "rm -r ./checkpoint/1SOB3BunfS95sHRzXFky3ZJ_nOwoX-KpG.zip"
      ],
      "execution_count": 0,
      "outputs": []
    },
    {
      "cell_type": "code",
      "metadata": {
        "id": "tw_VTARJ2rzO",
        "colab_type": "code",
        "colab": {}
      },
      "source": [
        "rm -r ./checkpoint/checkpoint/checkpoint/1SOB3BunfS95sHRzXFky3ZJ_nOwoX-KpG.zip"
      ],
      "execution_count": 0,
      "outputs": []
    },
    {
      "cell_type": "code",
      "metadata": {
        "id": "ocKWm5bXXBjO",
        "colab_type": "code",
        "colab": {}
      },
      "source": [
        "import os\n",
        "os.listdir(\"./checkpoint\")"
      ],
      "execution_count": 0,
      "outputs": []
    },
    {
      "cell_type": "code",
      "metadata": {
        "id": "JejIhHvcaAs0",
        "colab_type": "code",
        "colab": {}
      },
      "source": [
        "import shutil\n",
        "shutil.move(\"./checkpoint/checkpoint/naked_out_128_108_108\", \"./checkpoint/naked_out_128_108_108\" )"
      ],
      "execution_count": 0,
      "outputs": []
    },
    {
      "cell_type": "markdown",
      "metadata": {
        "id": "ZfL7NeCofR_r",
        "colab_type": "text"
      },
      "source": [
        "# Uniform images"
      ]
    },
    {
      "cell_type": "markdown",
      "metadata": {
        "id": "eVvolST0hKDY",
        "colab_type": "text"
      },
      "source": [
        "Run this to avoid this error: *ValueError: could not broadcast input array from shape.. *\n",
        "\n",
        "It converts all images in a directory to RGB (it removes the alpha channel) and moves everything to a new folder"
      ]
    },
    {
      "cell_type": "code",
      "metadata": {
        "id": "OD4-6NF6-FT9",
        "colab_type": "code",
        "colab": {}
      },
      "source": [
        "mkdir ./data/insects_new"
      ],
      "execution_count": 0,
      "outputs": []
    },
    {
      "cell_type": "code",
      "metadata": {
        "id": "6IPgA7UBZf4J",
        "colab_type": "code",
        "colab": {}
      },
      "source": [
        "import os\n",
        "os.listdir('./data/insects/')"
      ],
      "execution_count": 0,
      "outputs": []
    },
    {
      "cell_type": "code",
      "metadata": {
        "id": "xbZk_1JIY_mr",
        "colab_type": "code",
        "outputId": "65244218-7f14-494d-d28f-737f38c7cc44",
        "colab": {
          "base_uri": "https://localhost:8080/",
          "height": 34
        }
      },
      "source": [
        "from PIL import Image\n",
        "import os, sys\n",
        "\n",
        "path ='./data/insects/'\n",
        "out=\"./data/insects_new/\"\n",
        "\n",
        "dirs = os.listdir( path )\n",
        "\n",
        "n=0\n",
        "for item in dirs:\n",
        "    try:\n",
        "        if os.path.isfile(path+item):\n",
        "            im = Image.open(path+item)\n",
        "            longer_side = max(im.size)\n",
        "\n",
        "            horizontal_padding = (longer_side - im.size[0]) / 2\n",
        "            vertical_padding = (longer_side - im.size[1]) / 2\n",
        "            f, e = os.path.splitext(path+item)\n",
        "            imResize = im.crop(\n",
        "            (\n",
        "                -horizontal_padding,\n",
        "                -vertical_padding,\n",
        "                im.size[0] + horizontal_padding,\n",
        "                im.size[1] + vertical_padding\n",
        "            )\n",
        "            )\n",
        "            RGB = imResize.convert('RGB')\n",
        "            little = RGB.resize((256,256), Image.ANTIALIAS)\n",
        "\n",
        "            little.save(out +  str(n) +'resize.jpg', 'JPEG', quality=90)\n",
        "            n+=1\n",
        "            \n",
        "    except Exception as e:\n",
        "        print(e)"
      ],
      "execution_count": 0,
      "outputs": [
        {
          "output_type": "stream",
          "text": [
            "cannot identify image file './data/insects/1O1JItVJm2nehIbQucTHP5Sct0-DZKOLO.zip'\n"
          ],
          "name": "stdout"
        }
      ]
    },
    {
      "cell_type": "code",
      "metadata": {
        "id": "9HSVWO--Wuw1",
        "colab_type": "code",
        "colab": {}
      },
      "source": [
        "import os\n",
        "os.listdir('./data/insects_new')"
      ],
      "execution_count": 0,
      "outputs": []
    },
    {
      "cell_type": "markdown",
      "metadata": {
        "id": "_-NvQtkJxCeB",
        "colab_type": "text"
      },
      "source": [
        "# Train - Test"
      ]
    },
    {
      "cell_type": "code",
      "metadata": {
        "id": "rKZxrFrG2a6v",
        "colab_type": "code",
        "colab": {}
      },
      "source": [
        "cd DCGAN-Art-Tensorflow"
      ],
      "execution_count": 0,
      "outputs": []
    },
    {
      "cell_type": "code",
      "metadata": {
        "id": "qpuibkWc_v9O",
        "colab_type": "code",
        "colab": {}
      },
      "source": [
        "!ls\n"
      ],
      "execution_count": 0,
      "outputs": []
    },
    {
      "cell_type": "code",
      "metadata": {
        "id": "qPPAxSqXO5iV",
        "colab_type": "code",
        "cellView": "both",
        "colab": {}
      },
      "source": [
        "import time\n",
        "!python ./main.py  --batch_size 16 --dataset insects_new  --epoch 25  --input_fname_pattern \"*resize.jpg\" --input_height 256 --output_height 256  --option 0 --train  --generate_test_images=10\n",
        "\n",
        "ts = time.asctime() + \".tar.gz\"\n",
        "ts = ts.replace(\" \",\"_\")\n",
        "ts = ts.replace(\":\",\"\")\n",
        "!tar -czvf \"$ts\" samples\n",
        "!cp \"$ts\" \"/content/drive/My Drive/Colab Notebooks\""
      ],
      "execution_count": 0,
      "outputs": []
    },
    {
      "cell_type": "code",
      "metadata": {
        "id": "V6Qi4eBP2wog",
        "colab_type": "code",
        "colab": {}
      },
      "source": [
        "from google.colab import files\n",
        "files.download( \"./samples/test_gif_17.gif\" )\n",
        "#print(\"AAAH right\")"
      ],
      "execution_count": 0,
      "outputs": []
    },
    {
      "cell_type": "code",
      "metadata": {
        "id": "ztLN0j7qUwUt",
        "colab_type": "code",
        "colab": {}
      },
      "source": [
        "!python main.py    --dataset insects_new   --input_fname_pattern \"*resize.jpg\" --input_height 256 --output_height 256  --option 0\n",
        "import time\n",
        "ts = time.asctime() + \".tar.gz\"\n",
        "ts = ts.replace(\" \",\"_\")\n",
        "ts = ts.replace(\":\",\"\")\n",
        "!tar -czvf \"$ts\" samples\n",
        "!cp \"$ts\" \"/content/drive/My Drive/Colab Notebooks\"\n"
      ],
      "execution_count": 0,
      "outputs": []
    },
    {
      "cell_type": "code",
      "metadata": {
        "id": "YJ3fAHZa74oQ",
        "colab_type": "code",
        "colab": {}
      },
      "source": [
        "!cd ./DCGAN-Art-Tensorflow/"
      ],
      "execution_count": 0,
      "outputs": []
    },
    {
      "cell_type": "code",
      "metadata": {
        "id": "qoCi-QB5lvRh",
        "colab_type": "code",
        "colab": {}
      },
      "source": [
        "import os\n",
        "os.listdir('./samples')"
      ],
      "execution_count": 0,
      "outputs": []
    },
    {
      "cell_type": "code",
      "metadata": {
        "id": "asotRId_2tRj",
        "colab_type": "code",
        "colab": {}
      },
      "source": [
        "!rm -R checkpoint/"
      ],
      "execution_count": 0,
      "outputs": []
    },
    {
      "cell_type": "code",
      "metadata": {
        "id": "8V6xtFCKH1M2",
        "colab_type": "code",
        "colab": {}
      },
      "source": [
        "!ls -la samples/.ipynb_checkpoints/\n"
      ],
      "execution_count": 0,
      "outputs": []
    },
    {
      "cell_type": "markdown",
      "metadata": {
        "id": "Qu0fuzQ4Sh9d",
        "colab_type": "text"
      },
      "source": [
        "# Save files"
      ]
    },
    {
      "cell_type": "markdown",
      "metadata": {
        "id": "x_0drhNwxAw8",
        "colab_type": "text"
      },
      "source": [
        "save specific img"
      ]
    },
    {
      "cell_type": "code",
      "metadata": {
        "id": "l-dL0keI9SFB",
        "colab_type": "code",
        "outputId": "a9154ad3-e0d7-452f-c996-31762c29165a",
        "colab": {
          "base_uri": "https://localhost:8080/",
          "height": 34
        }
      },
      "source": [
        "from google.colab import files\n",
        "files.download( \"./samples/test_gif_13.gif\" )\n",
        "print(\"aaaa right\")"
      ],
      "execution_count": 0,
      "outputs": [
        {
          "output_type": "stream",
          "text": [
            "aaaa right\n"
          ],
          "name": "stdout"
        }
      ]
    },
    {
      "cell_type": "markdown",
      "metadata": {
        "id": "fjth_GeX5PiW",
        "colab_type": "text"
      },
      "source": [
        "save checkpoint folder - to continue when the VM  changes"
      ]
    },
    {
      "cell_type": "code",
      "metadata": {
        "id": "jzVFJsBp8DLK",
        "colab_type": "code",
        "colab": {}
      },
      "source": [
        "cd .."
      ],
      "execution_count": 0,
      "outputs": []
    },
    {
      "cell_type": "markdown",
      "metadata": {
        "id": "VpSsIvK9xg95",
        "colab_type": "text"
      },
      "source": [
        "# Save to Drive - Zip file\n"
      ]
    },
    {
      "cell_type": "code",
      "metadata": {
        "id": "b5zglqmkSBoZ",
        "colab_type": "code",
        "colab": {}
      },
      "source": [
        "CPT_PATH = \"./checkpoint\""
      ],
      "execution_count": 0,
      "outputs": []
    },
    {
      "cell_type": "markdown",
      "metadata": {
        "id": "sR-5MGDkd0D6",
        "colab_type": "text"
      },
      "source": [
        "Same logic as before, this time it saves the .zip to a specific drive folder "
      ]
    },
    {
      "cell_type": "code",
      "metadata": {
        "id": "xeMebbocTBh3",
        "colab_type": "code",
        "colab": {}
      },
      "source": [
        "drive_folder = \"116OGJqQpksx6AaRpcH5EUt2M99wJ9mfJ\" # change the link, or it will fill my drive"
      ],
      "execution_count": 0,
      "outputs": []
    },
    {
      "cell_type": "code",
      "metadata": {
        "id": "hg2emDrpWeYT",
        "colab_type": "code",
        "colab": {}
      },
      "source": [
        "from pydrive.auth import GoogleAuth\n",
        "from pydrive.drive import GoogleDrive\n",
        "from google.colab import auth\n",
        "from oauth2client.client import GoogleCredentials\n",
        "\n",
        "# 1. Authenticate and create the PyDrive client.\n",
        "auth.authenticate_user()\n",
        "gauth = GoogleAuth()\n",
        "gauth.credentials = GoogleCredentials.get_application_default()\n",
        "drive = GoogleDrive(gauth)\n",
        "print(\"all right\")"
      ],
      "execution_count": 0,
      "outputs": []
    },
    {
      "cell_type": "code",
      "metadata": {
        "id": "QudAM27FL3NK",
        "colab_type": "code",
        "colab": {}
      },
      "source": [
        "import os\n",
        "os.listdir('.')"
      ],
      "execution_count": 0,
      "outputs": []
    },
    {
      "cell_type": "code",
      "metadata": {
        "id": "6_mvHKHLKpYt",
        "colab_type": "code",
        "colab": {}
      },
      "source": [
        "import zipfile\n",
        "import os\n",
        "folder_id = drive_folder\n",
        "zip_name = CPT_PATH\n",
        "directory_name = '.'\n",
        "d = CPT_PATH\n",
        "\n",
        "os.chdir(os.path.dirname(d))\n",
        "with zipfile.ZipFile(d + '.zip',\n",
        "                     \"w\",\n",
        "                     zipfile.ZIP_DEFLATED,\n",
        "                     allowZip64=True) as zf:\n",
        "    for root, _, filenames in os.walk(os.path.basename(d)):\n",
        "        for name in filenames:\n",
        "            name = os.path.join(root, name)\n",
        "            name = os.path.normpath(name)\n",
        "            foo = zf.write(name, name)\n"
      ],
      "execution_count": 0,
      "outputs": []
    },
    {
      "cell_type": "code",
      "metadata": {
        "id": "bRlyNWNfDCTD",
        "colab_type": "code",
        "colab": {}
      },
      "source": [
        "file = drive.CreateFile({'parents':[{u'id': folder_id}]})\n",
        "file.SetContentFile(\"checkpoint.zip\")\n",
        "file.Upload() \n",
        "print(\"zip file saved on Drive\")"
      ],
      "execution_count": 0,
      "outputs": []
    }
  ]
}